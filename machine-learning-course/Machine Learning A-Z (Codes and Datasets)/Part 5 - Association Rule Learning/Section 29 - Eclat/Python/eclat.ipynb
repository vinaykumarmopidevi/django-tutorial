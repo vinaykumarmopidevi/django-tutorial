{
  "cells": [
    {
      "cell_type": "markdown",
      "metadata": {
        "colab_type": "text",
        "id": "1fziHl7Ar94J"
      },
      "source": [
        "# Eclat"
      ]
    },
    {
      "cell_type": "markdown",
      "metadata": {},
      "source": [
        "The Eclat (Equivalence Class Clustering and bottom-up Lattice Traversal) algorithm is a popular data mining algorithm used to find frequent itemsets in a dataset. It is especially efficient for discovering frequent patterns in large datasets. Unlike the Apriori algorithm, which uses a breadth-first search and horizontal data format, Eclat uses a depth-first search and vertical data format.\n",
        "\n",
        "### Key Concepts\n",
        "\n",
        "1. **Itemset**: A collection of one or more items.\n",
        "2. **Support**: The number of transactions in the dataset that contain a particular itemset.\n",
        "3. **Transaction ID (TID) Set**: A set of transaction IDs where a particular itemset appears.\n",
        "\n",
        "### Steps of the Eclat Algorithm\n",
        "\n",
        "1. **Convert Dataset to Vertical Format**:\n",
        "   - Represent the dataset in a vertical format where each item is associated with a list of transaction IDs (TIDs) in which it appears.\n",
        "\n",
        "2. **Recursive Depth-First Search**:\n",
        "   - Use a recursive depth-first search to explore itemsets.\n",
        "   - Intersect TID sets to find the support of larger itemsets.\n",
        "\n",
        "3. **Prune Non-Frequent Itemsets**:\n",
        "   - Only retain itemsets that meet a minimum support threshold.\n",
        "   - Prune itemsets that do not meet this threshold.\n",
        "\n",
        "4. **Generate Frequent Itemsets**:\n",
        "   - Use the intersection of TID sets to generate frequent itemsets.\n",
        "\n",
        "### Detailed Steps\n",
        "\n",
        "**1. Converting to Vertical Format**:\n",
        "\n",
        "For a dataset of transactions:\n",
        "\n",
        "| Transaction ID | Items      |\n",
        "|----------------|------------|\n",
        "| 1              | A, B       |\n",
        "| 2              | B, C       |\n",
        "| 3              | A, C       |\n",
        "| 4              | A, B, C    |\n",
        "| 5              | A, B       |\n",
        "\n",
        "Convert to vertical format:\n",
        "\n",
        "- {A}: {1, 3, 4, 5}\n",
        "- {B}: {1, 2, 4, 5}\n",
        "- {C}: {2, 3, 4}\n",
        "\n",
        "**2. Recursive Depth-First Search**:\n",
        "\n",
        "Start with single items and their TID sets:\n",
        "\n",
        "- {A} → {1, 3, 4, 5}\n",
        "- {B} → {1, 2, 4, 5}\n",
        "- {C} → {2, 3, 4}\n",
        "\n",
        "Combine items and intersect their TID sets to find larger itemsets:\n",
        "\n",
        "- {A, B} → {1, 4, 5} (intersection of {A} and {B})\n",
        "- {A, C} → {3, 4} (intersection of {A} and {C})\n",
        "- {B, C} → {2, 4} (intersection of {B} and {C})\n",
        "\n",
        "Combine further if needed:\n",
        "\n",
        "- {A, B, C} → {4} (intersection of {A, B} and {C})\n",
        "\n",
        "**3. Prune Non-Frequent Itemsets**:\n",
        "\n",
        "Assuming a minimum support threshold of 2 transactions (40% support):\n",
        "\n",
        "- {A} has support 4\n",
        "- {B} has support 4\n",
        "- {C} has support 3\n",
        "- {A, B} has support 3\n",
        "- {A, C} has support 2\n",
        "- {B, C} has support 2\n",
        "- {A, B, C} has support 1 -> Pruned\n",
        "\n",
        "**4. Generate Frequent Itemsets**:\n",
        "\n",
        "Frequent itemsets:\n",
        "\n",
        "- {A}, {B}, {C}, {A, B}, {A, C}, {B, C}\n",
        "\n",
        "### Advantages of Eclat\n",
        "\n",
        "- **Efficiency**: Eclat can be more efficient than Apriori for datasets with a large number of transactions and dense datasets.\n",
        "- **Memory Usage**: Using a vertical format, Eclat can be more memory-efficient, as it only stores the TID sets.\n",
        "\n",
        "### Applications of Eclat Algorithm\n",
        "\n",
        "- **Market Basket Analysis**: Identifying sets of items that are frequently purchased together.\n",
        "- **Web Usage Mining**: Discovering patterns in user navigation on websites.\n",
        "- **Bioinformatics**: Finding frequent patterns in biological datasets, such as gene expression data.\n",
        "\n",
        "### Comparison with Apriori\n",
        "\n",
        "- **Search Strategy**: Eclat uses depth-first search, while Apriori uses breadth-first search.\n",
        "- **Data Format**: Eclat works with vertical data format (item to TID sets), while Apriori works with horizontal data format (transactions to items).\n",
        "- **Performance**: Eclat can be faster and more memory-efficient, especially for dense datasets.\n",
        "\n",
        "The Eclat algorithm is a powerful tool for discovering frequent itemsets in large datasets, providing valuable insights and aiding in various applications such as market basket analysis, web usage mining, and bioinformatics."
      ]
    },
    {
      "cell_type": "markdown",
      "metadata": {
        "colab_type": "text",
        "id": "eiNwni1xsEgT"
      },
      "source": [
        "## Importing the libraries"
      ]
    },
    {
      "cell_type": "code",
      "execution_count": 1,
      "metadata": {
        "colab": {
          "base_uri": "https://localhost:8080/",
          "height": 34
        },
        "colab_type": "code",
        "id": "DUF77Qr1vqyM",
        "outputId": "86e8ae3e-6a35-47bc-a832-5a02936a9c65"
      },
      "outputs": [
        {
          "name": "stdout",
          "output_type": "stream",
          "text": [
            "Defaulting to user installation because normal site-packages is not writeable\n",
            "Requirement already satisfied: apyori in c:\\users\\vm23055\\appdata\\roaming\\python\\python311\\site-packages (1.1.2)\n"
          ]
        },
        {
          "name": "stderr",
          "output_type": "stream",
          "text": [
            "DEPRECATION: Loading egg at c:\\anaconda3\\lib\\site-packages\\asgiref-3.7.2-py3.11.egg is deprecated. pip 24.3 will enforce this behaviour change. A possible replacement is to use pip for package installation.. Discussion can be found at https://github.com/pypa/pip/issues/12330\n",
            "DEPRECATION: Loading egg at c:\\anaconda3\\lib\\site-packages\\django_simpleui-2023.11.16-py3.11.egg is deprecated. pip 24.3 will enforce this behaviour change. A possible replacement is to use pip for package installation.. Discussion can be found at https://github.com/pypa/pip/issues/12330\n",
            "DEPRECATION: Loading egg at c:\\anaconda3\\lib\\site-packages\\vboxapi-1.0-py3.11.egg is deprecated. pip 24.3 will enforce this behaviour change. A possible replacement is to use pip for package installation.. Discussion can be found at https://github.com/pypa/pip/issues/12330\n"
          ]
        }
      ],
      "source": [
        "!pip install apyori"
      ]
    },
    {
      "cell_type": "code",
      "execution_count": 2,
      "metadata": {
        "colab": {},
        "colab_type": "code",
        "id": "UJfitBClsJlT"
      },
      "outputs": [],
      "source": [
        "import numpy as np\n",
        "import matplotlib.pyplot as plt\n",
        "import pandas as pd"
      ]
    },
    {
      "cell_type": "markdown",
      "metadata": {
        "colab_type": "text",
        "id": "vLt-7XUKsXBd"
      },
      "source": [
        "## Data Preprocessing"
      ]
    },
    {
      "cell_type": "code",
      "execution_count": 3,
      "metadata": {
        "colab": {},
        "colab_type": "code",
        "id": "J_A-UFOAsaDf"
      },
      "outputs": [],
      "source": [
        "dataset = pd.read_csv('Market_Basket_Optimisation.csv', header = None)\n",
        "transactions = []\n",
        "for i in range(0, 7501):\n",
        "  transactions.append([str(dataset.values[i,j]) for j in range(0, 20)])"
      ]
    },
    {
      "cell_type": "markdown",
      "metadata": {
        "colab_type": "text",
        "id": "1wYZdBd5sea_"
      },
      "source": [
        "## Training the Eclat model on the dataset"
      ]
    },
    {
      "cell_type": "code",
      "execution_count": 4,
      "metadata": {
        "colab": {},
        "colab_type": "code",
        "id": "YzIk4vXZsj5i"
      },
      "outputs": [],
      "source": [
        "from apyori import apriori\n",
        "rules = apriori(transactions = transactions, min_support = 0.003, min_confidence = 0.2, min_lift = 3, min_length = 2, max_length = 2)"
      ]
    },
    {
      "cell_type": "markdown",
      "metadata": {
        "colab_type": "text",
        "id": "b176YNwWspiO"
      },
      "source": [
        "## Visualising the results"
      ]
    },
    {
      "cell_type": "markdown",
      "metadata": {
        "colab_type": "text",
        "id": "iO6bF_dImT-E"
      },
      "source": [
        "### Displaying the first results coming directly from the output of the apriori function"
      ]
    },
    {
      "cell_type": "code",
      "execution_count": 5,
      "metadata": {
        "colab": {},
        "colab_type": "code",
        "id": "kvF-sLc6ifhd"
      },
      "outputs": [],
      "source": [
        "results = list(rules)"
      ]
    },
    {
      "cell_type": "code",
      "execution_count": 6,
      "metadata": {
        "colab": {
          "base_uri": "https://localhost:8080/",
          "height": 191
        },
        "colab_type": "code",
        "id": "eAD8Co4_l9IE",
        "outputId": "b87395d9-2a75-49ab-9206-61fb678e6aa8"
      },
      "outputs": [
        {
          "data": {
            "text/plain": [
              "[RelationRecord(items=frozenset({'light cream', 'chicken'}), support=0.004532728969470737, ordered_statistics=[OrderedStatistic(items_base=frozenset({'light cream'}), items_add=frozenset({'chicken'}), confidence=0.29059829059829057, lift=4.84395061728395)]),\n",
              " RelationRecord(items=frozenset({'escalope', 'mushroom cream sauce'}), support=0.005732568990801226, ordered_statistics=[OrderedStatistic(items_base=frozenset({'mushroom cream sauce'}), items_add=frozenset({'escalope'}), confidence=0.3006993006993007, lift=3.790832696715049)]),\n",
              " RelationRecord(items=frozenset({'escalope', 'pasta'}), support=0.005865884548726837, ordered_statistics=[OrderedStatistic(items_base=frozenset({'pasta'}), items_add=frozenset({'escalope'}), confidence=0.3728813559322034, lift=4.700811850163794)]),\n",
              " RelationRecord(items=frozenset({'honey', 'fromage blanc'}), support=0.003332888948140248, ordered_statistics=[OrderedStatistic(items_base=frozenset({'fromage blanc'}), items_add=frozenset({'honey'}), confidence=0.2450980392156863, lift=5.164270764485569)]),\n",
              " RelationRecord(items=frozenset({'herb & pepper', 'ground beef'}), support=0.015997866951073192, ordered_statistics=[OrderedStatistic(items_base=frozenset({'herb & pepper'}), items_add=frozenset({'ground beef'}), confidence=0.3234501347708895, lift=3.2919938411349285)]),\n",
              " RelationRecord(items=frozenset({'tomato sauce', 'ground beef'}), support=0.005332622317024397, ordered_statistics=[OrderedStatistic(items_base=frozenset({'tomato sauce'}), items_add=frozenset({'ground beef'}), confidence=0.3773584905660377, lift=3.840659481324083)]),\n",
              " RelationRecord(items=frozenset({'light cream', 'olive oil'}), support=0.003199573390214638, ordered_statistics=[OrderedStatistic(items_base=frozenset({'light cream'}), items_add=frozenset({'olive oil'}), confidence=0.20512820512820515, lift=3.1147098515519573)]),\n",
              " RelationRecord(items=frozenset({'whole wheat pasta', 'olive oil'}), support=0.007998933475536596, ordered_statistics=[OrderedStatistic(items_base=frozenset({'whole wheat pasta'}), items_add=frozenset({'olive oil'}), confidence=0.2714932126696833, lift=4.122410097642296)]),\n",
              " RelationRecord(items=frozenset({'pasta', 'shrimp'}), support=0.005065991201173177, ordered_statistics=[OrderedStatistic(items_base=frozenset({'pasta'}), items_add=frozenset({'shrimp'}), confidence=0.3220338983050847, lift=4.506672147735896)])]"
            ]
          },
          "execution_count": 6,
          "metadata": {},
          "output_type": "execute_result"
        }
      ],
      "source": [
        "results"
      ]
    },
    {
      "cell_type": "markdown",
      "metadata": {
        "colab_type": "text",
        "id": "MFkQP-fcjDBC"
      },
      "source": [
        "### Putting the results well organised into a Pandas DataFrame"
      ]
    },
    {
      "cell_type": "code",
      "execution_count": 7,
      "metadata": {
        "colab": {},
        "colab_type": "code",
        "id": "gyq7Poi0mMUe"
      },
      "outputs": [],
      "source": [
        "def inspect(results):\n",
        "    lhs         = [tuple(result[2][0][0])[0] for result in results]\n",
        "    rhs         = [tuple(result[2][0][1])[0] for result in results]\n",
        "    supports    = [result[1] for result in results]\n",
        "    return list(zip(lhs, rhs, supports))\n",
        "resultsinDataFrame = pd.DataFrame(inspect(results), columns = ['Product 1', 'Product 2', 'Support'])"
      ]
    },
    {
      "cell_type": "markdown",
      "metadata": {
        "colab_type": "text",
        "id": "IjrrlYW4jpTR"
      },
      "source": [
        "### Displaying the results sorted by descending supports"
      ]
    },
    {
      "cell_type": "code",
      "execution_count": 8,
      "metadata": {
        "colab": {
          "base_uri": "https://localhost:8080/",
          "height": 326
        },
        "colab_type": "code",
        "id": "nI7DJXng-nxQ",
        "outputId": "63b4b5d1-9d4d-43a0-ded4-6ee4de2f4854"
      },
      "outputs": [
        {
          "data": {
            "text/html": [
              "<div>\n",
              "<style scoped>\n",
              "    .dataframe tbody tr th:only-of-type {\n",
              "        vertical-align: middle;\n",
              "    }\n",
              "\n",
              "    .dataframe tbody tr th {\n",
              "        vertical-align: top;\n",
              "    }\n",
              "\n",
              "    .dataframe thead th {\n",
              "        text-align: right;\n",
              "    }\n",
              "</style>\n",
              "<table border=\"1\" class=\"dataframe\">\n",
              "  <thead>\n",
              "    <tr style=\"text-align: right;\">\n",
              "      <th></th>\n",
              "      <th>Product 1</th>\n",
              "      <th>Product 2</th>\n",
              "      <th>Support</th>\n",
              "    </tr>\n",
              "  </thead>\n",
              "  <tbody>\n",
              "    <tr>\n",
              "      <th>4</th>\n",
              "      <td>herb &amp; pepper</td>\n",
              "      <td>ground beef</td>\n",
              "      <td>0.015998</td>\n",
              "    </tr>\n",
              "    <tr>\n",
              "      <th>7</th>\n",
              "      <td>whole wheat pasta</td>\n",
              "      <td>olive oil</td>\n",
              "      <td>0.007999</td>\n",
              "    </tr>\n",
              "    <tr>\n",
              "      <th>2</th>\n",
              "      <td>pasta</td>\n",
              "      <td>escalope</td>\n",
              "      <td>0.005866</td>\n",
              "    </tr>\n",
              "    <tr>\n",
              "      <th>1</th>\n",
              "      <td>mushroom cream sauce</td>\n",
              "      <td>escalope</td>\n",
              "      <td>0.005733</td>\n",
              "    </tr>\n",
              "    <tr>\n",
              "      <th>5</th>\n",
              "      <td>tomato sauce</td>\n",
              "      <td>ground beef</td>\n",
              "      <td>0.005333</td>\n",
              "    </tr>\n",
              "    <tr>\n",
              "      <th>8</th>\n",
              "      <td>pasta</td>\n",
              "      <td>shrimp</td>\n",
              "      <td>0.005066</td>\n",
              "    </tr>\n",
              "    <tr>\n",
              "      <th>0</th>\n",
              "      <td>light cream</td>\n",
              "      <td>chicken</td>\n",
              "      <td>0.004533</td>\n",
              "    </tr>\n",
              "    <tr>\n",
              "      <th>3</th>\n",
              "      <td>fromage blanc</td>\n",
              "      <td>honey</td>\n",
              "      <td>0.003333</td>\n",
              "    </tr>\n",
              "    <tr>\n",
              "      <th>6</th>\n",
              "      <td>light cream</td>\n",
              "      <td>olive oil</td>\n",
              "      <td>0.003200</td>\n",
              "    </tr>\n",
              "  </tbody>\n",
              "</table>\n",
              "</div>"
            ],
            "text/plain": [
              "              Product 1    Product 2   Support\n",
              "4         herb & pepper  ground beef  0.015998\n",
              "7     whole wheat pasta    olive oil  0.007999\n",
              "2                 pasta     escalope  0.005866\n",
              "1  mushroom cream sauce     escalope  0.005733\n",
              "5          tomato sauce  ground beef  0.005333\n",
              "8                 pasta       shrimp  0.005066\n",
              "0           light cream      chicken  0.004533\n",
              "3         fromage blanc        honey  0.003333\n",
              "6           light cream    olive oil  0.003200"
            ]
          },
          "execution_count": 8,
          "metadata": {},
          "output_type": "execute_result"
        }
      ],
      "source": [
        "resultsinDataFrame.nlargest(n = 10, columns = 'Support')"
      ]
    }
  ],
  "metadata": {
    "colab": {
      "collapsed_sections": [],
      "name": "eclat.ipynb",
      "provenance": [],
      "toc_visible": true
    },
    "kernelspec": {
      "display_name": "Python 3",
      "name": "python3"
    },
    "language_info": {
      "codemirror_mode": {
        "name": "ipython",
        "version": 3
      },
      "file_extension": ".py",
      "mimetype": "text/x-python",
      "name": "python",
      "nbconvert_exporter": "python",
      "pygments_lexer": "ipython3",
      "version": "3.11.5"
    }
  },
  "nbformat": 4,
  "nbformat_minor": 0
}
