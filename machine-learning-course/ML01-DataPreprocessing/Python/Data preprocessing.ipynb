{
 "cells": [
  {
   "cell_type": "markdown",
   "id": "ec9c2407-e6ce-4475-a9b0-9c6fe65896a4",
   "metadata": {},
   "source": [
    "# Data preprocessing "
   ]
  },
  {
   "cell_type": "markdown",
   "id": "c9b91738-f8ea-4194-8344-41aa06c048ce",
   "metadata": {},
   "source": [
    "Data preprocessing is a crucial step in machine learning where raw data is transformed into a format that is more suitable for modeling. It involves several tasks aimed at cleaning, transforming, and organizing data to make it more usable for machine learning algorithms. Some common techniques in data preprocessing include:\n",
    "\n",
    "1. **Handling missing data**: Missing data can be problematic for machine learning algorithms. Techniques like imputation (replacing missing values with a calculated value) or deletion (removing rows or columns with missing values) are often employed.\n",
    "\n",
    "2. **Data cleaning**: This involves tasks like removing duplicate records, correcting errors in the data, and handling outliers that can adversely affect the performance of machine learning models.\n",
    "\n",
    "3. **Feature scaling**: Features in the dataset may have different scales, which can affect the performance of certain algorithms. Techniques like normalization or standardization are used to scale features to a similar range.\n",
    "\n",
    "4. **Feature encoding**: Categorical variables are often converted into a numerical format so that machine learning algorithms can process them. This can involve techniques like one-hot encoding or label encoding.\n",
    "\n",
    "5. **Feature engineering**: Creating new features from the existing ones to improve model performance. This can include transformations, combinations, or extracting useful information from raw data.\n",
    "\n",
    "6. **Data transformation**: Transforming the distribution of variables to make them more Gaussian-like, which can improve the performance of some machine learning algorithms.\n",
    "\n",
    "7. **Dimensionality reduction**: Techniques like Principal Component Analysis (PCA) or feature selection methods are used to reduce the number of features in the dataset while preserving the most important information. This helps in reducing computational complexity and overfitting.\n",
    "\n",
    "8. **Splitting the dataset**: Dividing the dataset into training, validation, and test sets to evaluate the performance of the model.\n",
    "\n",
    "Each of these preprocessing steps plays a vital role in ensuring that the data is ready for training machine learning models, ultimately leading to more accurate and robust predictions. The choice of preprocessing techniques depends on the nature of the data and the requirements of the specific machine learning task."
   ]
  },
  {
   "cell_type": "markdown",
   "id": "575f4cf0-4305-4151-b586-c1532bf1c4ab",
   "metadata": {},
   "source": [
    "# Handling missing data"
   ]
  },
  {
   "cell_type": "markdown",
   "id": "9598cb3d-f0c6-4d42-a9f6-3375f6a097e9",
   "metadata": {},
   "source": [
    "Handling missing data is a critical aspect of data preprocessing in machine learning. Missing data can arise due to various reasons such as data corruption, data entry errors, or intentional omission. Dealing with missing data is important because many machine learning algorithms cannot handle missing values directly and may produce biased or inaccurate results if missing values are present. Here are some common techniques for handling missing data in machine learning:\n",
    "\n",
    "1. **Deletion**: \n",
    "   - **Listwise deletion**: Removing entire rows with missing values. This can lead to loss of potentially valuable information, especially if the dataset is small.\n",
    "   - **Column-wise deletion**: Removing entire columns (features) with a high percentage of missing values. This is suitable when those features are not critical for the analysis.\n",
    "\n",
    "2. **Imputation**:\n",
    "   - **Mean/Median/Mode imputation**: Replace missing values with the mean, median, or mode of the non-missing values in the respective column. This method is simple but can distort the distribution of the data.\n",
    "   - **Predictive imputation**: Use machine learning algorithms to predict missing values based on other features. This can be more accurate but requires more computational resources.\n",
    "   - **Interpolation**: Estimate missing values based on neighboring values. For time-series data, methods like linear interpolation or spline interpolation can be used.\n",
    "\n",
    "3. **Extension techniques**:\n",
    "   - **Multiple imputation**: Generate multiple plausible values for each missing value, creating multiple complete datasets. Analyze each dataset separately and then pool the results to obtain a final estimate. This accounts for uncertainty associated with missing data.\n",
    "   - **K-nearest neighbors (KNN)**: Replace missing values with the average of K-nearest neighbors’ values. This method preserves relationships between variables but can be computationally expensive.\n",
    "\n",
    "4. **Flagging and modeling**:\n",
    "   - **Flagging**: Introduce an additional binary indicator variable to denote whether the data was missing or not. This way, the model can learn the pattern associated with missing values.\n",
    "   - **Modeling**: Treat missingness as a separate category and use algorithms that can handle missing values directly, such as decision trees or random forests.\n",
    "\n",
    "The choice of method depends on factors such as the amount of missing data, the underlying data distribution, the nature of the analysis, and computational resources. It's essential to carefully consider the implications of each method and choose the one that best suits the specific characteristics of the dataset and the goals of the analysis. Additionally, it's advisable to assess the impact of missing data handling on the model's performance through cross-validation or other evaluation techniques."
   ]
  },
  {
   "cell_type": "markdown",
   "id": "0a9c432a-ffb3-404a-b0d1-06c6bb995a3c",
   "metadata": {},
   "source": [
    "# Data cleaning"
   ]
  },
  {
   "cell_type": "markdown",
   "id": "ff29918d-6e22-4d27-bc4e-f382e95fa3ff",
   "metadata": {},
   "source": [
    "Data cleaning is a fundamental step in the data preprocessing pipeline for machine learning. It involves identifying and correcting errors, inconsistencies, and inaccuracies in the dataset to ensure that the data is reliable and suitable for analysis. Here are some common techniques used in data cleaning for machine learning:\n",
    "\n",
    "1. **Handling missing values**: As mentioned earlier, missing values can be problematic for machine learning algorithms. Dealing with missing values can involve techniques such as deletion, imputation, or flagging.\n",
    "\n",
    "2. **Removing duplicate records**: Duplicate records in the dataset can skew analysis results and model training. Identifying and removing duplicate records ensures that each observation is unique and contributes only once to the analysis.\n",
    "\n",
    "3. **Handling outliers**: Outliers are data points that deviate significantly from the rest of the data. They can arise due to errors, anomalies, or genuine but rare events. Outliers can be treated by removing them, transforming them, or assigning them to a different category based on domain knowledge.\n",
    "\n",
    "4. **Correcting errors**: Data may contain errors such as typos, incorrect values, or inconsistencies. Cleaning involves identifying and correcting these errors manually or programmatically. For example, converting inconsistent date formats into a standardized format.\n",
    "\n",
    "5. **Standardizing data**: Standardizing data involves converting data into a common format or scale to facilitate analysis. This can include converting units of measurement, normalizing numerical data, or converting categorical variables into a consistent format.\n",
    "\n",
    "6. **Handling inconsistent data**: Inconsistencies in data can arise due to different data sources, data entry errors, or changes in data formats over time. Cleaning involves identifying and resolving these inconsistencies to ensure data consistency and accuracy.\n",
    "\n",
    "7. **Addressing structural errors**: Structural errors refer to issues with the organization or structure of the data. This can include problems such as incorrect data types, mismatched dimensions, or irregularities in data representation. Cleaning involves restructuring the data to address these issues and ensure its integrity.\n",
    "\n",
    "8. **Feature engineering**: While not strictly a cleaning technique, feature engineering involves creating new features from existing ones to improve model performance. This can include transformations, combinations, or extraction of useful information from raw data.\n",
    "\n",
    "Data cleaning is an iterative process that often requires domain knowledge and careful consideration of the characteristics of the dataset and the goals of the analysis. By ensuring that the data is clean, consistent, and reliable, data cleaning lays the foundation for accurate and robust machine learning models."
   ]
  },
  {
   "cell_type": "markdown",
   "id": "a06ae51f-d16b-4e5a-a55a-1a3772194e79",
   "metadata": {},
   "source": [
    "# Feature scaling"
   ]
  },
  {
   "cell_type": "markdown",
   "id": "c31a415d-bd62-4787-812f-d26da73a72f6",
   "metadata": {},
   "source": [
    "Feature scaling is a preprocessing technique used in machine learning to standardize the range of independent variables or features in the dataset. It's important because many machine learning algorithms perform better or converge faster when features are on a similar scale. Here are some common methods for feature scaling:\n",
    "\n",
    "1. **Standardization (Z-score normalization)**:\n",
    "   - **Formula**: \\( z = \\frac{x - \\mu}{\\sigma} \\)\n",
    "   - Where \\( x \\) is the original feature value, \\( \\mu \\) is the mean of the feature values, and \\( \\sigma \\) is the standard deviation.\n",
    "   - This method scales the features so that they have a mean of 0 and a standard deviation of 1.\n",
    "   - Standardization is robust to outliers and maintains the shape of the distribution.\n",
    "\n",
    "2. **Min-Max scaling (Normalization)**:\n",
    "   - **Formula**: \\( x_{\\text{scaled}} = \\frac{x - x_{\\text{min}}}{x_{\\text{max}} - x_{\\text{min}}} \\)\n",
    "   - This method scales the features to a fixed range, usually between 0 and 1.\n",
    "   - It preserves the relative relationships between the original data points but does not handle outliers well.\n",
    "\n",
    "3. **Robust scaling**:\n",
    "   - This method is similar to standardization but uses the median and the interquartile range (IQR) instead of the mean and standard deviation.\n",
    "   - It's less affected by outliers compared to standardization.\n",
    "\n",
    "4. **Unit vector scaling (Vector normalization)**:\n",
    "   - **Formula**: \\( x_{\\text{scaled}} = \\frac{x}{||x||} \\)\n",
    "   - This method scales each feature to have a unit norm (length 1).\n",
    "   - It's useful when features are measured in different units and have different scales.\n",
    "\n",
    "5. **Log transformation**:\n",
    "   - This method involves applying a logarithmic transformation to the features, which can help normalize skewed distributions.\n",
    "   - It's particularly useful for features with a large range of values or a highly skewed distribution.\n",
    "\n",
    "The choice of feature scaling method depends on factors such as the distribution of the data, the presence of outliers, and the requirements of the machine learning algorithm being used. It's essential to apply feature scaling consistently across all features in the dataset to ensure that the model training process is not biased towards certain features due to differences in scale. Additionally, feature scaling is typically applied after data cleaning and before model training in the machine learning pipeline."
   ]
  },
  {
   "cell_type": "markdown",
   "id": "a3d4d735-1633-42bf-9da4-cfed2699c08f",
   "metadata": {},
   "source": [
    "# Feature engineering"
   ]
  },
  {
   "cell_type": "markdown",
   "id": "4d8b92e2-533b-402b-b0d7-fa47f508d8d9",
   "metadata": {},
   "source": [
    "Feature engineering is the process of creating new features from existing ones or transforming existing features to improve the performance of machine learning models. It involves domain knowledge, creativity, and experimentation to extract meaningful information from raw data. Feature engineering can significantly impact the predictive power and generalization ability of machine learning models. Here are some common techniques used in feature engineering:\n",
    "\n",
    "1. **Feature extraction**:\n",
    "   - Extracting relevant information from raw data to create new features. This can involve techniques such as:\n",
    "     - Text processing: Extracting features from text data, such as word frequency, n-grams, or TF-IDF (Term Frequency-Inverse Document Frequency).\n",
    "     - Image processing: Extracting features from images using techniques like edge detection, color histograms, or deep learning-based feature extraction.\n",
    "     - Time-series analysis: Extracting features such as trend, seasonality, or autocorrelation from time-series data.\n",
    "  \n",
    "2. **Feature transformation**:\n",
    "   - Transforming existing features to make them more suitable for modeling. This can include techniques such as:\n",
    "     - Logarithmic transformation: Transforming skewed features to follow a more Gaussian distribution.\n",
    "     - Box-Cox transformation: A family of power transformations that can stabilize variance and make the data more normally distributed.\n",
    "     - Polynomial features: Creating new features by raising existing features to higher powers. This can capture nonlinear relationships between features.\n",
    "  \n",
    "3. **Dimensionality reduction**:\n",
    "   - Reducing the number of features while preserving the most important information. This can involve techniques such as:\n",
    "     - Principal Component Analysis (PCA): Transforming high-dimensional data into a lower-dimensional space while maximizing variance.\n",
    "     - Singular Value Decomposition (SVD): A matrix factorization technique used for dimensionality reduction and latent factor discovery.\n",
    "     - Feature selection: Selecting a subset of the most relevant features based on statistical tests, feature importance scores, or domain knowledge.\n",
    "  \n",
    "4. **Feature combination**:\n",
    "   - Creating new features by combining existing ones. This can include techniques such as:\n",
    "     - Feature interactions: Creating new features by combining pairs or groups of existing features. For example, multiplying two features to capture their interaction effect.\n",
    "     - Aggregation: Creating aggregate features by summarizing or combining information across multiple observations. For example, calculating mean, median, or sum of a feature within groups.\n",
    "  \n",
    "5. **Feature scaling**:\n",
    "   - Scaling features to a similar range to ensure that they contribute equally to the model. This can improve the convergence speed and stability of some machine learning algorithms.\n",
    "  \n",
    "6. **Domain-specific feature engineering**:\n",
    "   - Leveraging domain knowledge to create features that are relevant and meaningful for the specific problem domain. This can involve incorporating business rules, heuristics, or expert insights into feature creation.\n",
    "  \n",
    "Effective feature engineering requires a deep understanding of the data, the problem domain, and the characteristics of the machine learning algorithms being used. It's an iterative process that often involves experimentation and evaluation to determine which features contribute the most to model performance. By creating informative and discriminative features, feature engineering can help unlock the full potential of machine learning models and improve their predictive accuracy."
   ]
  },
  {
   "cell_type": "markdown",
   "id": "fdea0f31-cf05-4f2e-a5c0-74910c1c4420",
   "metadata": {},
   "source": [
    "# Data transformation"
   ]
  },
  {
   "cell_type": "markdown",
   "id": "e22b8881-d444-4fda-af2b-073d8d7270c1",
   "metadata": {},
   "source": [
    "Data transformation in machine learning refers to the process of modifying or converting the raw input data into a format that is more suitable for analysis or modeling. This transformation can involve various techniques aimed at addressing issues such as skewed distributions, nonlinearity, or heteroscedasticity. Here are some common data transformation techniques used in machine learning:\n",
    "\n",
    "1. **Logarithmic transformation**:\n",
    "   - **Purpose**: Used to handle data with skewed distributions, such as variables with a long tail.\n",
    "   - **Process**: Apply the natural logarithm (or other logarithmic functions) to the data.\n",
    "   - **Benefits**: Helps stabilize the variance and make the distribution more symmetrical.\n",
    "\n",
    "2. **Box-Cox transformation**:\n",
    "   - **Purpose**: Similar to logarithmic transformation but allows for a wider range of transformations, including power transformations.\n",
    "   - **Process**: Uses a parameter \\( \\lambda \\) to determine the transformation: \n",
    "     - \\( y(\\lambda) = \\frac{{y^\\lambda - 1}}{{\\lambda}} \\) if \\( \\lambda \\neq 0 \\)\n",
    "     - \\( y(\\lambda) = \\log(y) \\) if \\( \\lambda = 0 \\)\n",
    "   - **Benefits**: Can handle both positive and negative values, and the optimal transformation is determined automatically through statistical methods.\n",
    "\n",
    "3. **Normalization**:\n",
    "   - **Purpose**: Scaling the values of numerical features to a fixed range, typically between 0 and 1.\n",
    "   - **Process**: Subtract the minimum value and divide by the range (maximum - minimum).\n",
    "   - **Benefits**: Ensures that all features have the same scale, which can be important for algorithms sensitive to scale differences, such as k-nearest neighbors and neural networks.\n",
    "\n",
    "4. **Standardization (Z-score normalization)**:\n",
    "   - **Purpose**: Transforming numerical features to have a mean of 0 and a standard deviation of 1.\n",
    "   - **Process**: Subtract the mean and divide by the standard deviation.\n",
    "   - **Benefits**: Makes the data more amenable to algorithms that assume Gaussian distributions and helps to center the data around zero.\n",
    "\n",
    "5. **Polynomial transformation**:\n",
    "   - **Purpose**: Introducing higher-order polynomial terms to capture nonlinear relationships between features.\n",
    "   - **Process**: Create new features by raising existing features to higher powers (e.g., quadratic, cubic).\n",
    "   - **Benefits**: Allows linear models to capture nonlinear patterns in the data.\n",
    "\n",
    "6. **Binning**:\n",
    "   - **Purpose**: Grouping continuous numerical features into discrete bins or categories.\n",
    "   - **Process**: Divide the range of the feature values into intervals (bins) and assign each value to its corresponding bin.\n",
    "   - **Benefits**: Reduces the impact of outliers and noise, and can capture non-linear relationships more effectively.\n",
    "\n",
    "7. **Feature scaling**:\n",
    "   - **Purpose**: Ensuring that all features have a similar scale, which can improve the performance and convergence of many machine learning algorithms.\n",
    "   - **Process**: Applying techniques such as normalization or standardization to scale feature values.\n",
    "\n",
    "The choice of data transformation technique depends on factors such as the distribution of the data, the characteristics of the features, and the requirements of the machine learning algorithm being used. Experimentation and evaluation are often necessary to determine the most effective transformation for a given dataset and modeling task."
   ]
  },
  {
   "cell_type": "markdown",
   "id": "590a186d-364a-4934-a2e3-fc7ae6392e34",
   "metadata": {},
   "source": [
    "# Splitting the dataset"
   ]
  },
  {
   "cell_type": "markdown",
   "id": "6ca6bb11-0157-4336-9cce-011cbde1a0fa",
   "metadata": {},
   "source": [
    "Splitting the dataset is a crucial step in machine learning, as it involves dividing the available data into separate subsets for training, validation, and testing. This process ensures that the model is trained on one set of data, evaluated on another set to tune hyperparameters, and tested on a third set to assess its performance. Here's how the dataset is typically split:\n",
    "\n",
    "1. **Training set**:\n",
    "   - Purpose: Used to train the machine learning model.\n",
    "   - Size: Typically the largest portion of the dataset, usually around 60-80% of the data.\n",
    "   - Usage: The model learns from the patterns in this set.\n",
    "\n",
    "2. **Validation set**:\n",
    "   - Purpose: Used to fine-tune hyperparameters and evaluate model performance during training.\n",
    "   - Size: Smaller than the training set, usually around 10-20% of the data.\n",
    "   - Usage: Helps in optimizing the model's performance without biasing the final evaluation.\n",
    "\n",
    "3. **Test set**:\n",
    "   - Purpose: Used to provide an unbiased evaluation of the final model's performance.\n",
    "   - Size: Typically smaller than the training and validation sets, usually around 10-20% of the data.\n",
    "   - Usage: Provides an independent assessment of how well the model generalizes to unseen data.\n",
    "\n",
    "The dataset splitting process should ensure that each data point is assigned to only one of these subsets and that the subsets are representative of the overall dataset. Here are some common techniques for splitting the dataset:\n",
    "\n",
    "1. **Random split**:\n",
    "   - The dataset is randomly divided into training, validation, and test sets.\n",
    "   - This ensures that each subset contains a random sample of the data.\n",
    "   - Random splitting is commonly used when there are no temporal or spatial dependencies in the data.\n",
    "\n",
    "2. **Stratified split**:\n",
    "   - Ensures that the class distribution in each subset is representative of the overall dataset.\n",
    "   - Particularly useful for imbalanced datasets where one class may be underrepresented.\n",
    "   - Stratified splitting helps prevent biases in the model evaluation process.\n",
    "\n",
    "3. **Time-based split**:\n",
    "   - When dealing with time-series data, the dataset is split based on a specific point in time.\n",
    "   - Typically, older data is used for training, while more recent data is reserved for validation and testing.\n",
    "   - Time-based splitting helps the model learn from past data and evaluate its performance on future data.\n",
    "\n",
    "4. **Cross-validation**:\n",
    "   - A resampling technique where the dataset is split into multiple subsets (folds).\n",
    "   - Each fold is used as a validation set while the rest are used for training.\n",
    "   - Cross-validation helps in obtaining more reliable estimates of model performance, especially when the dataset is small.\n",
    "\n",
    "The choice of dataset splitting technique depends on factors such as the nature of the data, the modeling task, and the available computational resources. It's essential to carefully plan the dataset splitting process to ensure a fair and unbiased evaluation of the machine learning model."
   ]
  },
  {
   "cell_type": "code",
   "execution_count": null,
   "id": "d37db4eb-2188-4cf4-9e51-5b2fb7113664",
   "metadata": {},
   "outputs": [],
   "source": []
  }
 ],
 "metadata": {
  "kernelspec": {
   "display_name": "Python 3 (ipykernel)",
   "language": "python",
   "name": "python3"
  },
  "language_info": {
   "codemirror_mode": {
    "name": "ipython",
    "version": 3
   },
   "file_extension": ".py",
   "mimetype": "text/x-python",
   "name": "python",
   "nbconvert_exporter": "python",
   "pygments_lexer": "ipython3",
   "version": "3.11.5"
  }
 },
 "nbformat": 4,
 "nbformat_minor": 5
}
